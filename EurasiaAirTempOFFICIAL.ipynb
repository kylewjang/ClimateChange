{
 "cells": [
  {
   "cell_type": "code",
   "execution_count": 25,
   "metadata": {},
   "outputs": [
    {
     "data": {
      "image/png": "[encoded data removed]",
      "text/plain": [
       "<Figure size 432x288 with 1 Axes>"
      ]
     },
     "metadata": {
      "needs_background": "light"
     },
     "output_type": "display_data"
    }
   ],
   "source": [
    "import os\n",
    "import matplotlib.pylab as plt\n",
    "from matplotlib import cm\n",
    "import matplotlib.image as mpimg\n",
    "import numpy as np\n",
    "import cartopy.crs as ccrs\n",
    "import cartopy.feature as cfeature\n",
    "from netCDF4 import Dataset, glob\n",
    "\n",
    "directory = \"C:/Users/kwjan/Downloads/Air2M\"\n",
    "air_all = np.zeros((42, 94, 192))\n",
    "lat_all = np.zeros((42, 94))\n",
    "lon_all = np.zeros((42, 192))\n",
    "i = 0\n",
    "\n",
    "for file in os.listdir(directory):\n",
    "    air2m = Dataset('C:/Users/kwjan/Downloads/Air2M/' + str(file))\n",
    "    air = air2m.variables['air'][0, :, :].reshape(94, 192)\n",
    "    lat = air2m.variables['lat'][:]\n",
    "    lon = air2m.variables['lon'][:]\n",
    "    air_all[i, :, :] = air\n",
    "    lat_all[i, :] = lat\n",
    "    lon_all[i, :] = lon\n",
    "    i += 1\n",
    "\n",
    "latmask = np.logical_and(lat >= -30, lat <= 85)\n",
    "lonmask = np.logical_and(lon >= 0, lon <= 180)\n",
    "lat_all = lat_all[:, latmask]\n",
    "lon_all = lon_all[:, lonmask]\n",
    "air_all = air_all[:, latmask, :]\n",
    "air_all = air_all[:, :, lonmask]\n",
    "air_count = np.zeros((42, 3))\n",
    "for i in range(42):\n",
    "    air_count[i, :] = [sum(sum(air_all[i, :, :] < 280)), sum(sum(np.logical_and(air_all[i, :, :] >= 280,\n",
    "                                                                                air_all[i, :, :] < 290))),\n",
    "                       sum(sum(air_all[i, :, :] >= 290))]\n",
    "years = np.arange(1979, 2021)\n",
    "ax = plt.subplot(111)\n",
    "w = 0.225\n",
    "ax.bar(years - w, air_count[:, 0], width=w, color='b', align='center', label='< 280K')\n",
    "ax.bar(years, air_count[:, 1], width=w, color='g', align='center', label='280 >= K < 290')\n",
    "ax.bar(years + w, air_count[:, 2], width=w, color='r', align='center', label='>= 290K')\n",
    "ax.autoscale(tight=True)\n",
    "plt.legend(loc='center')\n",
    "lowmean = np.mean(air_count[:, 0])\n",
    "medmean = np.mean(air_count[:, 1])\n",
    "highmean = np.mean(air_count[:, 2])\n",
    "plt.xlabel('Year')\n",
    "plt.ylabel('# of Occurrences')\n",
    "plt.title('Number of Occurrences of Air Temperature Ranges by Year in Eurasia')\n",
    "plt.savefig('AirTempOccurrences_Eurasia.jpeg', quality=95, dpi=720, orientation='landscape')\n",
    "plt.show()"
   ]
  },
  {
   "cell_type": "code",
   "execution_count": 26,
   "metadata": {},
   "outputs": [
    {
     "name": "stdout",
     "output_type": "stream",
     "text": [
      "21 qualifying years,  10 years past 1999,  47.6% past 1999 out of qualifying years,  23.8% total\n",
      "23 qualifying years,  11 years past 1999,  47.8% past 1999 out of qualifying years,  26.2% total\n",
      "22 qualifying years,  13 years past 1999,  59.1% past 1999 out of qualifying years,  31.0% total\n",
      "\n",
      "The first row describes low temperatures represented by the blue lines in the graph above.\n",
      "The second is the medium temperatures corresponding to the green, and the third row is the red, high temperatures.\n",
      "To determine \"qualifying years\", I filtered for years that have a greater number of occurances of a certain temperature than \n",
      "the mean number of occurances. \n",
      "\n",
      "It can be observed that in the last 21 years, there has been an increase in the occurances \n",
      "of higher temperatures.\n"
     ]
    }
   ],
   "source": [
    "lowabove = years[air_count[:, 0] > lowmean]\n",
    "medabove = years[air_count[:, 1] > medmean]\n",
    "highabove = years[air_count[:, 2] > highmean]\n",
    "print(str(sum(lowabove >= 0)) + ' qualifying years, ', str(sum(lowabove >= 1999)) + ' years past 1999, ',\n",
    "      str(round(sum(lowabove >= 1999) / sum(lowabove >= 0) * 100, 1)) + '% past 1999 out of qualifying years, ',\n",
    "      str(round(sum(lowabove >= 1999) / 42 * 100, 1)) + '% total')\n",
    "print(str(sum(medabove >= 0)) + ' qualifying years, ', str(sum(medabove >= 1999)) + ' years past 1999, ',\n",
    "      str(round(sum(medabove >= 1999) / sum(medabove >= 0) * 100, 1)) + '% past 1999 out of qualifying years, ',\n",
    "      str(round(sum(medabove >= 1999) / 42 * 100, 1)) + '% total')\n",
    "print(str(sum(highabove >= 0)) + ' qualifying years, ', str(sum(highabove >= 1999)) + ' years past 1999, ',\n",
    "      str(round(sum(highabove >= 1999) / sum(highabove >= 0) * 100, 1)) + '% past 1999 out of qualifying years, ',\n",
    "      str(round(sum(highabove >= 1999) / 42 * 100, 1)) + '% total')\n",
    "\n",
    "print('\\nThe first row describes low temperatures represented by the blue lines in the graph above.\\nThe second is the medium temperatures corresponding to the green, and the third row is the red, high temperatures.\\nTo determine \"qualifying years\", I filtered for years that have a greater number of occurances of a certain temperature than \\nthe mean number of occurances. ')\n",
    "print('\\nIt can be observed that in the last 21 years, there has been an increase in the occurances \\nof higher temperatures.')"
   ]
  },
  {
   "cell_type": "code",
   "execution_count": 27,
   "metadata": {},
   "outputs": [
    {
     "name": "stdout",
     "output_type": "stream",
     "text": [
      "Creating the .mp4 file\n"
     ]
    }
   ],
   "source": [
    "Year = 1979\n",
    "for i in range(42):\n",
    "    plt.figure(figsize=(10, 5))\n",
    "    txtstring = \"Air Temperature in Eurasia \\n at 2m Elevation, \" + str(Year + i) + \"\\n\"\n",
    "    ax = plt.axes(projection=ccrs.Mercator())\n",
    "    ax.coastlines(resolution='50m')\n",
    "    ax.set_extent([0, 180, -30, 80], crs=ccrs.PlateCarree())\n",
    "    ax.add_feature(cfeature.GSHHSFeature(levels=[1], scale='coarse', facecolor=\"grey\"))\n",
    "    image = ax.contourf(lon_all[i, :], lat_all[i, :], air_all[i, :, :], transform=ccrs.PlateCarree(),\n",
    "                        levels=np.linspace(275, 300, 51), extend='both')\n",
    "    cb = plt.colorbar(image, orientation='horizontal', pad=0.08, shrink=0.65)\n",
    "    cb.ax.tick_params(labelsize=10)\n",
    "    cb.set_label('Temperature (K)', size=18)\n",
    "    gl = ax.gridlines(draw_labels=True)\n",
    "    plt.title(txtstring)\n",
    "    plt.savefig('C:/Users/kwjan/Downloads/Air2M Pics/' + str(Year + i) + '.png')\n",
    "    plt.close()\n",
    "\n",
    "import cv2\n",
    "\n",
    "img_array = []\n",
    "for filename in glob('C:/Users/kwjan/Downloads/Air2M Pics/*.png'):\n",
    "    img = cv2.imread(filename)\n",
    "    height, width, layers = img.shape\n",
    "    size = (width, height)\n",
    "    img_array.append(img)\n",
    "\n",
    "out = cv2.VideoWriter('Air2mVidEurasia.mp4', cv2.VideoWriter_fourcc(*'DIVX'), 2.5, size)\n",
    "\n",
    "for i in range(len(img_array)):\n",
    "    out.write(img_array[i])\n",
    "out.release()\n",
    "\n",
    "print('Creating the .mp4 file')\n"
   ]
  },
  {
   "cell_type": "code",
   "execution_count": 40,
   "metadata": {},
   "outputs": [
    {
     "data": {
      "image/jpeg": "[encoded data removed]",
      "text/html": [
       "\n",
       "        <iframe\n",
       "            width=\"700\"\n",
       "            height=\"700\"\n",
       "            src=\"https://www.youtube.com/embed/xjaP9KQCjMQ\"\n",
       "            frameborder=\"0\"\n",
       "            allowfullscreen\n",
       "        ></iframe>\n",
       "        "
      ],
      "text/plain": [
       "<IPython.lib.display.YouTubeVideo at 0x20e9b323648>"
      ]
     },
     "execution_count": 40,
     "metadata": {},
     "output_type": "execute_result"
    }
   ],
   "source": [
    "from IPython.display import YouTubeVideo\n",
    "\n",
    "YouTubeVideo('xjaP9KQCjMQ', width=700, height=700)\n",
    "\n"
   ]
  }
 ],
 "metadata": {
  "kernelspec": {
   "display_name": "Python 3",
   "language": "python",
   "name": "python3"
  },
  "language_info": {
   "codemirror_mode": {
    "name": "ipython",
    "version": 3
   },
   "file_extension": ".py",
   "mimetype": "text/x-python",
   "name": "python",
   "nbconvert_exporter": "python",
   "pygments_lexer": "ipython3",
   "version": "3.7.6"
  }
 },
 "nbformat": 4,
 "nbformat_minor": 4
}
