{
 "cells": [
  {
   "cell_type": "code",
   "execution_count": 7,
   "metadata": {},
   "outputs": [
    {
     "data": {
      "image/png": "[encoded data removed]",
      "text/plain": [
       "<Figure size 432x288 with 1 Axes>"
      ]
     },
     "metadata": {
      "needs_background": "light"
     },
     "output_type": "display_data"
    },
    {
     "name": "stdout",
     "output_type": "stream",
     "text": [
      "The straight blue line represents the mean number of occurances of very low precipitation rates.\n"
     ]
    }
   ],
   "source": [
    "import os\n",
    "import matplotlib.pylab as plt\n",
    "from matplotlib import cm\n",
    "import matplotlib.image as mpimg\n",
    "import numpy as np\n",
    "import cartopy.crs as ccrs\n",
    "import cartopy.feature as cfeature\n",
    "from netCDF4 import Dataset, glob\n",
    "\n",
    "directory = \"C:/Users/kwjan/Downloads/ConvectivePre\"\n",
    "conv_all = np.zeros((42, 94, 192))\n",
    "lat_all = np.zeros((42, 94))\n",
    "lon_all = np.zeros((42, 192))\n",
    "i = 0\n",
    "\n",
    "for file in os.listdir(directory):\n",
    "    air2m = Dataset('C:/Users/kwjan/Downloads/ConvectivePre/' + str(file))\n",
    "    conv = air2m.variables['cprat'][0, :, :].reshape(94, 192)\n",
    "    lat = air2m.variables['lat'][:]\n",
    "    lon = air2m.variables['lon'][:]\n",
    "    conv_all[i, :, :] = conv\n",
    "    lat_all[i, :] = lat\n",
    "    lon_all[i, :] = lon\n",
    "    i += 1\n",
    "\n",
    "conv_count = np.zeros((42, 5))\n",
    "for i in range(42):\n",
    "    conv_count[i, :] = [sum(sum(np.logical_and(conv_all[i, :, :] > 0, conv_all[i, :, :] < 0.0005))),\n",
    "                        sum(sum(np.logical_and(conv_all[i, :, :] >= 0.0005, conv_all[i, :, :] < 0.001))),\n",
    "                        sum(sum(np.logical_and(conv_all[i, :, :] >= 0.001, conv_all[i, :, :] < 0.0015))),\n",
    "                        sum(sum(np.logical_and(conv_all[i, :, :] >= 0.0015, conv_all[i, :, :] < 0.002))),\n",
    "                        sum(sum(conv_all[i, :, :] >= 0.002))]\n",
    "years = np.arange(1979, 2021)\n",
    "ax = plt.subplot(111)\n",
    "w = 0.125\n",
    "ax.bar(years - 0.5*w, conv_count[:, 0], width=w, color='royalblue', align='center', label='0 <= kg/m^2/s < 0.0005')\n",
    "ax.bar(years + 0.5*w, conv_count[:, 1], width=w, color='m', align='center', label='0.0005 <= kg/m^2/s < 0.001')\n",
    "ax.autoscale(tight=True)\n",
    "plt.legend(loc='upper left')\n",
    "verylowmean = np.mean(conv_count[:, 0])\n",
    "lowmean = np.mean(conv_count[:, 1])\n",
    "medmean = np.mean(conv_count[:, 2])\n",
    "highmean = np.mean(conv_count[:, 3])\n",
    "veryhighmean = np.mean(conv_count[:, 4])\n",
    "plt.plot(years, np.full((42,), verylowmean), color='royalblue', linewidth=1)\n",
    "plt.xlabel('Year')\n",
    "plt.ylabel('# of Occurrences')\n",
    "plt.title('Number of Occurrences of Convective Precipitation Rates by Year')\n",
    "plt.savefig('ConvectivePrecipitationWorld.jpeg', quality=95, dpi=720, orientation='landscape')\n",
    "plt.show()\n",
    "\n",
    "print('The straight blue line represents the mean number of occurances of very low precipitation rates.')"
   ]
  },
  {
   "cell_type": "code",
   "execution_count": 8,
   "metadata": {},
   "outputs": [
    {
     "name": "stdout",
     "output_type": "stream",
     "text": [
      "4 qualifying years,  4 years past 1999,  100.0% past 1999 out of qualifying years,  9.5% total\n",
      "20 qualifying years,  12 years past 1999,  60.0% past 1999 out of qualifying years,  28.6% total\n",
      "17 qualifying years,  7 years past 1999,  41.2% past 1999 out of qualifying years,  16.7% total\n",
      "10 qualifying years,  10 years past 1999,  100.0% past 1999 out of qualifying years,  23.8% total\n",
      "6 qualifying years,  6 years past 1999,  100.0% past 1999 out of qualifying years,  14.3% total\n",
      "\n",
      "The first row describes very low precip. rates represented by the blue lines in the graph above.\n",
      "The second is the medium precip. rates corresponding to the magenta bars.\n",
      "The third, fourth, and fifth rows represent medium, high, and very high precip. rates.\n",
      "The number of occurances for these rates were so small that they do not show up on the above graph.\n",
      "To determine \"qualifying years\", I filtered for years that have a greater number of occurances of a certain precip. rate range than the mean number of occurances. \n",
      "\n",
      "Very Low = 0 <= kg/m^2/s < 0.0005\n",
      "Low = 0.0005 <= kg/m^2/s < 0.001\n",
      "Medium = 0.001 <= kg/m^2/s < 0.0015\n",
      "High = 0.0015 <= kg/m^2/s < 0.002\n",
      "Very High = kg/m^2/s >= 0.002\n",
      "\n",
      "It can be observed that in the last 21 years, there has been an increase in almost all ranges of convective precipitation\n",
      "rates.\n"
     ]
    }
   ],
   "source": [
    "verylowabove = years[conv_count[:, 0] > verylowmean]\n",
    "lowabove = years[conv_count[:, 1] > lowmean]\n",
    "medabove = years[conv_count[:, 2] > medmean]\n",
    "highabove = years[conv_count[:, 3] > highmean]\n",
    "veryhighabove = years[conv_count[:, 4] > veryhighmean]\n",
    "\n",
    "print(str(sum(verylowabove >= 0)) + ' qualifying years, ', str(sum(verylowabove >= 1999)) + ' years past 1999, ',\n",
    "      str(round(sum(verylowabove >= 1999) / sum(verylowabove >= 0) * 100, 1)) + '% past 1999 out of qualifying years, ',\n",
    "      str(round(sum(verylowabove >= 1999) / 42 * 100, 1)) + '% total')\n",
    "print(str(sum(lowabove >= 0)) + ' qualifying years, ', str(sum(lowabove >= 1999)) + ' years past 1999, ',\n",
    "      str(round(sum(lowabove >= 1999) / sum(lowabove >= 0) * 100, 1)) + '% past 1999 out of qualifying years, ',\n",
    "      str(round(sum(lowabove >= 1999) / 42 * 100, 1)) + '% total')\n",
    "print(str(sum(medabove >= 0)) + ' qualifying years, ', str(sum(medabove >= 1999)) + ' years past 1999, ',\n",
    "      str(round(sum(medabove >= 1999) / sum(medabove >= 0) * 100, 1)) + '% past 1999 out of qualifying years, ',\n",
    "      str(round(sum(medabove >= 1999) / 42 * 100, 1)) + '% total')\n",
    "print(str(sum(highabove >= 0)) + ' qualifying years, ', str(sum(highabove >= 1999)) + ' years past 1999, ',\n",
    "      str(round(sum(highabove >= 1999) / sum(highabove >= 0) * 100, 1)) + '% past 1999 out of qualifying years, ',\n",
    "      str(round(sum(highabove >= 1999) / 42 * 100, 1)) + '% total')\n",
    "print(str(sum(veryhighabove >= 0)) + ' qualifying years, ', str(sum(veryhighabove >= 1999)) + ' years past 1999, ',\n",
    "      str(round(sum(veryhighabove >= 1999) / sum(veryhighabove >= 0) * 100, 1)) + '% past 1999 out of qualifying years, ',\n",
    "      str(round(sum(veryhighabove >= 1999) / 42 * 100, 1)) + '% total')\n",
    "\n",
    "print('\\nThe first row describes very low precip. rates represented by the blue lines in the graph above.\\nThe second is the medium precip. rates corresponding to the magenta bars.\\nThe third, fourth, and fifth rows represent medium, high, and very high precip. rates.\\nThe number of occurances for these rates were so small that they do not show up on the above graph.\\nTo determine \"qualifying years\", I filtered for years that have a greater number of occurances of a certain precip. rate range than the mean number of occurances. ')\n",
    "\n",
    "print('\\nVery Low = 0 <= kg/m^2/s < 0.0005')\n",
    "print('Low = 0.0005 <= kg/m^2/s < 0.001')\n",
    "print('Medium = 0.001 <= kg/m^2/s < 0.0015')\n",
    "print('High = 0.0015 <= kg/m^2/s < 0.002')\n",
    "print('Very High = kg/m^2/s >= 0.002')\n",
    "\n",
    "print('\\nIt can be observed that in the last 21 years, there has been an increase in almost all ranges of convective precipitation\\nrates.')\n"
   ]
  },
  {
   "cell_type": "code",
   "execution_count": 9,
   "metadata": {},
   "outputs": [
    {
     "name": "stdout",
     "output_type": "stream",
     "text": [
      "Creating the .avi file\n"
     ]
    }
   ],
   "source": [
    "Year = 1979\n",
    "for i in range(42):\n",
    "    plt.figure(figsize=(10, 5))\n",
    "    txtstring = \"Convective Precipitation, \" + str(Year + i) + \"\\n\"\n",
    "    ax = plt.axes(projection=ccrs.Mercator())\n",
    "    ax.coastlines(resolution='50m')\n",
    "    ax.add_feature(cfeature.GSHHSFeature(levels=[1], scale='coarse', facecolor=\"grey\"))\n",
    "    image = ax.contourf(lon_all[i, :], lat_all[i, :], conv_all[i, :, :], transform=ccrs.PlateCarree(),\n",
    "                        levels=np.linspace(0, 0.0025, 51), extend='both')\n",
    "    cb = plt.colorbar(image, orientation='horizontal', pad=0.08, shrink=0.65)\n",
    "    cb.ax.tick_params(labelsize=10)\n",
    "    cb.set_label('kg/m^2/s', size=18)\n",
    "    gl = ax.gridlines(draw_labels=True)\n",
    "    plt.title(txtstring)\n",
    "    plt.savefig('C:/Users/kwjan/Downloads/ConvectivePics/' + str(Year + i) + '.png')\n",
    "    plt.close()\n",
    "\n",
    "import cv2\n",
    "\n",
    "img_array = []\n",
    "for filename in glob('C:/Users/kwjan/Downloads/ConvectivePics/*.png'):\n",
    "    img = cv2.imread(filename)\n",
    "    height, width, layers = img.shape\n",
    "    size = (width, height)\n",
    "    img_array.append(img)\n",
    "\n",
    "out = cv2.VideoWriter('ConvectivePrecipitationWorld.avi', cv2.VideoWriter_fourcc(*'DIVX'), 2.5, size)\n",
    "\n",
    "for i in range(len(img_array)):\n",
    "    out.write(img_array[i])\n",
    "out.release()\n",
    "\n",
    "print('Creating the .avi file')\n"
   ]
  },
  {
   "cell_type": "code",
   "execution_count": 10,
   "metadata": {},
   "outputs": [
    {
     "data": {
      "image/jpeg": "[encoded data removed]",
      "text/html": [
       "\n",
       "        <iframe\n",
       "            width=\"700\"\n",
       "            height=\"700\"\n",
       "            src=\"https://www.youtube.com/embed/PkjNKBtXrdg\"\n",
       "            frameborder=\"0\"\n",
       "            allowfullscreen\n",
       "        ></iframe>\n",
       "        "
      ],
      "text/plain": [
       "<IPython.lib.display.YouTubeVideo at 0x237ba2194c8>"
      ]
     },
     "execution_count": 10,
     "metadata": {},
     "output_type": "execute_result"
    }
   ],
   "source": [
    "from IPython.display import YouTubeVideo\n",
    "\n",
    "YouTubeVideo('PkjNKBtXrdg', width=700, height=700)"
   ]
  }
 ],
 "metadata": {
  "kernelspec": {
   "display_name": "Python 3",
   "language": "python",
   "name": "python3"
  },
  "language_info": {
   "codemirror_mode": {
    "name": "ipython",
    "version": 3
   },
   "file_extension": ".py",
   "mimetype": "text/x-python",
   "name": "python",
   "nbconvert_exporter": "python",
   "pygments_lexer": "ipython3",
   "version": "3.7.6"
  }
 },
 "nbformat": 4,
 "nbformat_minor": 4
}
